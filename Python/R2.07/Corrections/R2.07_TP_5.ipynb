{
 "cells": [
  {
   "cell_type": "markdown",
   "metadata": {},
   "source": [
    "***\n",
    "# <center>R2.07 - Graphes <br>TP5 - Coloration <center>\n",
    "***\n",
    "\n",
    "_Tom Ferragut, Thibault Godin_\n",
    "\n",
    "_IUT de Vannes, BUT Informatique_\n",
    "***\n"
   ]
  },
  {
   "cell_type": "code",
   "execution_count": 1,
   "metadata": {},
   "outputs": [],
   "source": [
    "import networkx as nx\n",
    "import numpy as np\n",
    "import matplotlib.pyplot as plt\n",
    "%matplotlib inline\n",
    "#magic\n",
    "import warnings\n",
    "warnings.filterwarnings('ignore')"
   ]
  },
  {
   "cell_type": "markdown",
   "metadata": {},
   "source": [
    "## 0 - Introduction"
   ]
  },
  {
   "cell_type": "markdown",
   "metadata": {},
   "source": [
    "Le but de ce TP est d'implémenter la coloration naïve de graphe, puis de voir ses limites.\n",
    "\n",
    "Nous vous fournissons la fonction suivante, qui renvoie la liste des voisin d'un sommet `v` du graphe de matrice d'adjacence `A`."
   ]
  },
  {
   "cell_type": "code",
   "execution_count": 7,
   "metadata": {},
   "outputs": [],
   "source": [
    "def neighbours(A,v):\n",
    "    \"\"\"\n",
    "     Return the array of (out-)neighbours of v in the graph whose adjacency matrix is A\n",
    "\n",
    "    :param A: the adjacency matrix\n",
    "    :type A: a two dimensional square numpy array containing only integers\n",
    "    :param v: the considered vertex\n",
    "    :type v: integer\n",
    "    :return:  the array of (out-)neighbours of v in the graph whose adjacency matrix is A\n",
    "    :rtype:  an array of integer\n",
    "    \"\"\"\n",
    "        \n",
    "\n",
    "    return np.where(A[v]==1)[0]"
   ]
  },
  {
   "cell_type": "markdown",
   "metadata": {},
   "source": [
    "## 1 - Implémentation de la coloration naïve\n",
    "\n",
    "\n",
    "> <font color=darkorange> **_Question 1 :_** </font>\n",
    "> Écrire une fonction `MinCol` renvoyant le minimum des éléments d'une liste triée `col` parmi les éléments n'appartenant pas à la liste `colneigh`."
   ]
  },
  {
   "cell_type": "code",
   "execution_count": 8,
   "metadata": {
    "scrolled": true
   },
   "outputs": [
    {
     "name": "stdout",
     "output_type": "stream",
     "text": [
      "3\n",
      "0\n",
      "1\n"
     ]
    }
   ],
   "source": [
    "def MinCol(col,colneigh):\n",
    "    \"\"\"\n",
    "     Return the minimum among col of element which do not belong to colneigh\n",
    "\n",
    "    :param col,colneigh: colours\n",
    "    :type col,colneigh: 2 one dimensional np array of int\n",
    "    :return c:  minimal admissible colour\n",
    "    :rtype:   int\n",
    "    \"\"\"\n",
    "    i=0\n",
    "      \n",
    "    \n",
    "    while True:\n",
    "        \n",
    "        if not col[i] in colneigh: \n",
    "            return col[i]\n",
    "        i=i+1\n",
    "\n",
    "        \n",
    "print(MinCol(np.arange(10),np.array([0,1,2])))\n",
    "\n",
    "print(MinCol(np.arange(10),np.array([1,2])))\n",
    "\n",
    "print(MinCol(np.arange(10),np.array([0,2])))"
   ]
  },
  {
   "cell_type": "markdown",
   "metadata": {},
   "source": [
    "> <font color=darkorange> **_Question 2 :_** </font>\n",
    "> Implémenter l'algorithme `NaiveCol` de coloration naïve de graphes, prenant en entrée une matrice d'adjacence et renvoyant la liste des couleurs des sommets du graphe."
   ]
  },
  {
   "cell_type": "code",
   "execution_count": null,
   "metadata": {},
   "outputs": [],
   "source": [
    "def NaiveCol(A):\n",
    "    \"\"\"\n",
    "     Return a (naive, possibly sub-optimal) graph colouring of A\n",
    "\n",
    "    :param A: adjacency matrix\n",
    "    :type A: a two dimensional square numpy array \n",
    "    :return C:  array of colors\n",
    "    :rtype:   one dimensional numpy array\n",
    "    \"\"\"\n",
    "            \n",
    "    colours = np.arange(A.shape[0])\n",
    "\n",
    "    C=-1*np.ones(A.shape[0],int) #colours array\n",
    "    \n",
    "    VerticesList = np.arange(A.shape[0])\n",
    "    np.random.shuffle( VerticesList)\n",
    "                              \n",
    "    for i in  VerticesList:            \n",
    "        neigh=neighbours(A,i)\n",
    "        colneigh=C[neigh]\n",
    "\n",
    "        C[i]=MinCol(colours,colneigh)\n",
    "    \n",
    "    return C\n"
   ]
  },
  {
   "cell_type": "markdown",
   "metadata": {},
   "source": [
    "On teste avec un exemple simple, le cycle."
   ]
  },
  {
   "cell_type": "code",
   "execution_count": 9,
   "metadata": {},
   "outputs": [
    {
     "ename": "NameError",
     "evalue": "name 'C' is not defined",
     "output_type": "error",
     "traceback": [
      "\u001b[1;31m---------------------------------------------------------------------------\u001b[0m",
      "\u001b[1;31mNameError\u001b[0m                                 Traceback (most recent call last)",
      "Cell \u001b[1;32mIn[9], line 7\u001b[0m\n\u001b[0;32m      2\u001b[0m G\u001b[38;5;241m=\u001b[39mnx\u001b[38;5;241m.\u001b[39mgenerators\u001b[38;5;241m.\u001b[39mclassic\u001b[38;5;241m.\u001b[39mcycle_graph(n)\n\u001b[0;32m      4\u001b[0m A\u001b[38;5;241m=\u001b[39mnx\u001b[38;5;241m.\u001b[39mto_numpy_array(G)\n\u001b[1;32m----> 7\u001b[0m C\u001b[38;5;241m=\u001b[39mNaiveCol(A)\n\u001b[0;32m      8\u001b[0m \u001b[38;5;28mprint\u001b[39m(C)\n\u001b[0;32m     10\u001b[0m nx\u001b[38;5;241m.\u001b[39mdraw(G, nodelist\u001b[38;5;241m=\u001b[39m\u001b[38;5;28mrange\u001b[39m(n),node_color\u001b[38;5;241m=\u001b[39mC,with_labels\u001b[38;5;241m=\u001b[39m\u001b[38;5;28;01mTrue\u001b[39;00m,pos\u001b[38;5;241m=\u001b[39mnx\u001b[38;5;241m.\u001b[39mcircular_layout(G))\n",
      "Cell \u001b[1;32mIn[8], line 41\u001b[0m, in \u001b[0;36mNaiveCol\u001b[1;34m(A)\u001b[0m\n\u001b[0;32m     36\u001b[0m colours \u001b[38;5;241m=\u001b[39m np\u001b[38;5;241m.\u001b[39marange(A\u001b[38;5;241m.\u001b[39mshape[\u001b[38;5;241m0\u001b[39m])\n\u001b[0;32m     38\u001b[0m \u001b[38;5;66;03m#TODO \u001b[39;00m\n\u001b[1;32m---> 41\u001b[0m \u001b[38;5;28;01mreturn\u001b[39;00m C\n",
      "\u001b[1;31mNameError\u001b[0m: name 'C' is not defined"
     ]
    }
   ],
   "source": [
    "n=20\n",
    "G=nx.generators.classic.cycle_graph(n)\n",
    "\n",
    "A=nx.to_numpy_array(G)\n",
    "\n",
    "\n",
    "C=NaiveCol(A)\n",
    "print(C)\n",
    "\n",
    "nx.draw(G, nodelist=range(n),node_color=C,with_labels=True,pos=nx.circular_layout(G))\n",
    "\n"
   ]
  },
  {
   "cell_type": "code",
   "execution_count": 5,
   "metadata": {},
   "outputs": [
    {
     "ename": "NameError",
     "evalue": "name 'C' is not defined",
     "output_type": "error",
     "traceback": [
      "\u001b[1;31m---------------------------------------------------------------------------\u001b[0m",
      "\u001b[1;31mNameError\u001b[0m                                 Traceback (most recent call last)",
      "Cell \u001b[1;32mIn[5], line 6\u001b[0m\n\u001b[0;32m      1\u001b[0m G\u001b[38;5;241m=\u001b[39mnx\u001b[38;5;241m.\u001b[39mgenerators\u001b[38;5;241m.\u001b[39mpetersen_graph()\n\u001b[0;32m      3\u001b[0m A\u001b[38;5;241m=\u001b[39mnx\u001b[38;5;241m.\u001b[39mto_numpy_array(G)\n\u001b[1;32m----> 6\u001b[0m C\u001b[38;5;241m=\u001b[39mNaiveCol(A)\n\u001b[0;32m      7\u001b[0m \u001b[38;5;28mprint\u001b[39m(C)\n\u001b[0;32m      9\u001b[0m nx\u001b[38;5;241m.\u001b[39mdraw_shell(G,node_color\u001b[38;5;241m=\u001b[39mC, nlist\u001b[38;5;241m=\u001b[39m[\u001b[38;5;28mrange\u001b[39m(\u001b[38;5;241m5\u001b[39m,\u001b[38;5;241m10\u001b[39m), \u001b[38;5;28mrange\u001b[39m(\u001b[38;5;241m5\u001b[39m)],with_labels\u001b[38;5;241m=\u001b[39m\u001b[38;5;28;01mTrue\u001b[39;00m)\n",
      "Cell \u001b[1;32mIn[3], line 41\u001b[0m, in \u001b[0;36mNaiveCol\u001b[1;34m(A)\u001b[0m\n\u001b[0;32m     36\u001b[0m colours \u001b[38;5;241m=\u001b[39m np\u001b[38;5;241m.\u001b[39marange(A\u001b[38;5;241m.\u001b[39mshape[\u001b[38;5;241m0\u001b[39m])\n\u001b[0;32m     38\u001b[0m \u001b[38;5;66;03m#TODO \u001b[39;00m\n\u001b[1;32m---> 41\u001b[0m \u001b[38;5;28;01mreturn\u001b[39;00m C\n",
      "\u001b[1;31mNameError\u001b[0m: name 'C' is not defined"
     ]
    }
   ],
   "source": [
    "\n",
    "G=nx.generators.petersen_graph()\n",
    "\n",
    "A=nx.to_numpy_array(G)\n",
    "\n",
    "\n",
    "C=NaiveCol(A)\n",
    "print(C)\n",
    "\n",
    "nx.draw_shell(G,node_color=C, nlist=[range(5,10), range(5)],with_labels=True)\n"
   ]
  },
  {
   "cell_type": "markdown",
   "metadata": {},
   "source": [
    "> <font color=darkorange> **_Question 3 :_** </font>\n",
    "> Tester avec au moins un autre exemple classique venant [du manuel de référence networkx](https://networkx.org/documentation/stable/reference/generators.html)"
   ]
  },
  {
   "cell_type": "code",
   "execution_count": 10,
   "metadata": {},
   "outputs": [
    {
     "ename": "NameError",
     "evalue": "name 'C' is not defined",
     "output_type": "error",
     "traceback": [
      "\u001b[1;31m---------------------------------------------------------------------------\u001b[0m",
      "\u001b[1;31mNameError\u001b[0m                                 Traceback (most recent call last)",
      "Cell \u001b[1;32mIn[10], line 12\u001b[0m\n\u001b[0;32m      7\u001b[0m G\u001b[38;5;241m=\u001b[39mnx\u001b[38;5;241m.\u001b[39mgenerators\u001b[38;5;241m.\u001b[39mclassic\u001b[38;5;241m.\u001b[39mcomplete_graph(n)\n\u001b[0;32m      9\u001b[0m A\u001b[38;5;241m=\u001b[39mnx\u001b[38;5;241m.\u001b[39mto_numpy_array(G)\n\u001b[1;32m---> 12\u001b[0m C\u001b[38;5;241m=\u001b[39mNaiveCol(A)\n\u001b[0;32m     13\u001b[0m \u001b[38;5;28mprint\u001b[39m(C)\n\u001b[0;32m     15\u001b[0m nx\u001b[38;5;241m.\u001b[39mdraw(G, nodelist\u001b[38;5;241m=\u001b[39m\u001b[38;5;28mrange\u001b[39m(n),node_color\u001b[38;5;241m=\u001b[39mC,with_labels\u001b[38;5;241m=\u001b[39m\u001b[38;5;28;01mTrue\u001b[39;00m,pos\u001b[38;5;241m=\u001b[39mnx\u001b[38;5;241m.\u001b[39mcircular_layout(G),cmap\u001b[38;5;241m=\u001b[39mcmap)\n",
      "Cell \u001b[1;32mIn[8], line 41\u001b[0m, in \u001b[0;36mNaiveCol\u001b[1;34m(A)\u001b[0m\n\u001b[0;32m     36\u001b[0m colours \u001b[38;5;241m=\u001b[39m np\u001b[38;5;241m.\u001b[39marange(A\u001b[38;5;241m.\u001b[39mshape[\u001b[38;5;241m0\u001b[39m])\n\u001b[0;32m     38\u001b[0m \u001b[38;5;66;03m#TODO \u001b[39;00m\n\u001b[1;32m---> 41\u001b[0m \u001b[38;5;28;01mreturn\u001b[39;00m C\n",
      "\u001b[1;31mNameError\u001b[0m: name 'C' is not defined"
     ]
    }
   ],
   "source": [
    "#TODO\n",
    "#cmap = plt.cm.nipy_spectral\n",
    "\n",
    "cmap = plt.cm.tab20c\n",
    "\n",
    "n=20\n",
    "G=nx.generators.classic.complete_graph(n)\n",
    "\n",
    "A=nx.to_numpy_array(G)\n",
    "\n",
    "\n",
    "C=NaiveCol(A)\n",
    "print(C)\n",
    "\n",
    "nx.draw(G, nodelist=range(n),node_color=C,with_labels=True,pos=nx.circular_layout(G),cmap=cmap)\n",
    "\n",
    "vmin=C.min()\n",
    "vmax=C.max()\n",
    "sm = plt.cm.ScalarMappable(cmap=cmap, norm=plt.Normalize(vmin=vmin, vmax=vmax))\n",
    "sm.set_array([])\n",
    "cbar = plt.colorbar(sm)\n",
    "plt.show()"
   ]
  },
  {
   "cell_type": "code",
   "execution_count": null,
   "metadata": {},
   "outputs": [],
   "source": [
    "\n",
    "G=nx.generators.petersen_graph()\n",
    "\n",
    "A=nx.to_numpy_array(G)\n",
    "\n",
    "\n",
    "C=NaiveCol(A)\n",
    "print(C)\n",
    "\n",
    "nx.draw_shell(G,node_color=C, nlist=[range(5,10), range(5)],with_labels=True)\n"
   ]
  },
  {
   "cell_type": "code",
   "execution_count": 7,
   "metadata": {},
   "outputs": [
    {
     "name": "stdout",
     "output_type": "stream",
     "text": [
      "[6 5 2 8 9 0 1 7 3 4]\n",
      "[1 0 0 0 0 0 0 0 0 0]\n"
     ]
    },
    {
     "data": {
      "image/png": "[encoded data removed]",
      "text/plain": [
       "<Figure size 432x288 with 1 Axes>"
      ]
     },
     "metadata": {},
     "output_type": "display_data"
    }
   ],
   "source": [
    "#TODO\n",
    "\n",
    "n=10\n",
    "G=nx.generators.classic.star_graph(n-1)\n",
    "\n",
    "A=nx.to_numpy_array(G)\n",
    "\n",
    "\n",
    "C=NaiveCol(A)\n",
    "print(C)\n",
    "\n",
    "nx.draw(G,node_color=C,with_labels=True,pos=nx.circular_layout(G))"
   ]
  },
  {
   "cell_type": "code",
   "execution_count": 8,
   "metadata": {},
   "outputs": [
    {
     "name": "stdout",
     "output_type": "stream",
     "text": [
      "[[0. 1. 1. ... 0. 0. 0.]\n",
      " [1. 0. 0. ... 0. 0. 0.]\n",
      " [1. 0. 0. ... 0. 0. 0.]\n",
      " ...\n",
      " [0. 0. 0. ... 0. 0. 0.]\n",
      " [0. 0. 0. ... 0. 0. 1.]\n",
      " [0. 0. 0. ... 0. 1. 0.]]\n",
      "[10]\n",
      "[ 3 24  2  5 10  4 14 27  7  1  0  8 25 23 20 29  9 16  6 31 18 26 19 15\n",
      " 28 30 22 13 12 21 11 17]\n",
      "[2 0 1 0 1 0 2 0 1 0 0 2 1 0 0 1 0 1 1 2 1 0 0 1 0 0 0 0 1 1 1 0]\n"
     ]
    },
    {
     "data": {
      "image/png": "[encoded data removed]",
      "text/plain": [
       "<Figure size 432x288 with 1 Axes>"
      ]
     },
     "metadata": {},
     "output_type": "display_data"
    }
   ],
   "source": [
    "#TODO\n",
    "\n",
    "n=5\n",
    "G=nx.generators.binomial_tree(n)\n",
    "\n",
    "A=nx.to_numpy_array(G)\n",
    "print(A)\n",
    "print(neighbours(A,12))\n",
    "C=NaiveCol(A)\n",
    "print(C)\n",
    "\n",
    "nx.draw(G,node_color=C,with_labels=True,pos=nx.spring_layout(G))"
   ]
  },
  {
   "cell_type": "markdown",
   "metadata": {},
   "source": [
    "## 2 - Analyse de performance de la coloration naïve"
   ]
  },
  {
   "cell_type": "markdown",
   "metadata": {},
   "source": [
    "Le but de la question suivante est d'estimer la qualité de algorithme de coloration naïve.\n",
    "\n",
    "On se concentre dans un premier temps sur un cas particulier, le $2n$-cycle.\n",
    "\n",
    "\n",
    "> <font color=darkorange> **_Question 4 :_** </font>\n",
    "> En complétant la cellule suivante, écrire une fonction prenant en entrée $n$ (la taille du cycle) et $t$ (le nombre de coloriages naïfs à tester). La fonction doit tester $t$ coloriages naïfs sur $C_{2n}$, et retourne la liste `cols` du nombre de couleurs différentes utilisées pour chaque coloriage.\n",
    "\n"
   ]
  },
  {
   "cell_type": "code",
   "execution_count": 15,
   "metadata": {},
   "outputs": [
    {
     "ename": "IndentationError",
     "evalue": "expected an indented block after 'for' statement on line 11 (2565023244.py, line 15)",
     "output_type": "error",
     "traceback": [
      "\u001b[1;36m  Cell \u001b[1;32mIn[15], line 15\u001b[1;36m\u001b[0m\n\u001b[1;33m    print(f'the colouring is optimal in {cols[2]/t:.5f} percent of the cases')\u001b[0m\n\u001b[1;37m    ^\u001b[0m\n\u001b[1;31mIndentationError\u001b[0m\u001b[1;31m:\u001b[0m expected an indented block after 'for' statement on line 11\n"
     ]
    }
   ],
   "source": [
    "n=20\n",
    "t=10000\n",
    "col_count=np.zeros(n,int)\n",
    "\n",
    "cols=np.zeros(t,int)\n",
    "\n",
    "G=nx.generators.classic.cycle_graph(n)\n",
    "\n",
    "A=nx.to_numpy_array(G)\n",
    "\n",
    "for i in range(t):\n",
    "    \n",
    "    C=NaiveCol(A)\n",
    "    c_max=max(C)+1\n",
    "    col_count[c_max]+=1\n",
    "    cols[i]=c_max\n",
    "\n",
    "\n",
    "print(f'the colouring is optimal in {cols[2]/t:.5f} percent of the cases')\n",
    "\n",
    "plt.hist(cols,bins=np.arange(1,n+1))\n",
    "\n"
   ]
  },
  {
   "cell_type": "markdown",
   "metadata": {},
   "source": [
    "> <font color=darkorange> **_Question 5 :_** </font>\n",
    ">Comprendre et commenter le code suivant."
   ]
  },
  {
   "cell_type": "code",
   "execution_count": 16,
   "metadata": {},
   "outputs": [
    {
     "name": "stdout",
     "output_type": "stream",
     "text": [
      "treating cycle graph of size 2\n"
     ]
    },
    {
     "ename": "NameError",
     "evalue": "name 'C' is not defined",
     "output_type": "error",
     "traceback": [
      "\u001b[1;31m---------------------------------------------------------------------------\u001b[0m",
      "\u001b[1;31mNameError\u001b[0m                                 Traceback (most recent call last)",
      "Cell \u001b[1;32mIn[16], line 19\u001b[0m\n\u001b[0;32m     15\u001b[0m \u001b[38;5;28mprint\u001b[39m(\u001b[38;5;124m\"\u001b[39m\u001b[38;5;124mtreating cycle graph of size\u001b[39m\u001b[38;5;124m\"\u001b[39m, n)\n\u001b[0;32m     18\u001b[0m \u001b[38;5;28;01mfor\u001b[39;00m i \u001b[38;5;129;01min\u001b[39;00m \u001b[38;5;28mrange\u001b[39m(t):\n\u001b[1;32m---> 19\u001b[0m     C\u001b[38;5;241m=\u001b[39mNaiveCol(A)\n\u001b[0;32m     20\u001b[0m     c_max\u001b[38;5;241m=\u001b[39m\u001b[38;5;28mmax\u001b[39m(C)\u001b[38;5;241m+\u001b[39m\u001b[38;5;241m1\u001b[39m\n\u001b[0;32m     21\u001b[0m     col_count[c_max]\u001b[38;5;241m+\u001b[39m\u001b[38;5;241m=\u001b[39m\u001b[38;5;241m1\u001b[39m\n",
      "Cell \u001b[1;32mIn[8], line 41\u001b[0m, in \u001b[0;36mNaiveCol\u001b[1;34m(A)\u001b[0m\n\u001b[0;32m     36\u001b[0m colours \u001b[38;5;241m=\u001b[39m np\u001b[38;5;241m.\u001b[39marange(A\u001b[38;5;241m.\u001b[39mshape[\u001b[38;5;241m0\u001b[39m])\n\u001b[0;32m     38\u001b[0m \u001b[38;5;66;03m#TODO \u001b[39;00m\n\u001b[1;32m---> 41\u001b[0m \u001b[38;5;28;01mreturn\u001b[39;00m C\n",
      "\u001b[1;31mNameError\u001b[0m: name 'C' is not defined"
     ]
    }
   ],
   "source": [
    "M=50\n",
    "col_n=np.zeros(M)\n",
    "t=5000\n",
    "\n",
    "#a bit long ~3 minutes\n",
    "\n",
    "\n",
    "for nn in range(M):\n",
    "    n=2*(nn+1)\n",
    "    col_count=np.zeros(n+1,int)\n",
    "    G=nx.generators.classic.cycle_graph(n)\n",
    "    A=nx.to_numpy_array(G)\n",
    "    \n",
    "    \n",
    "    print(\"treating cycle graph of size\", n)\n",
    "    \n",
    "    \n",
    "    for i in range(t):\n",
    "        C=NaiveCol(A)\n",
    "        c_max=max(C)+1\n",
    "        col_count[c_max]+=1\n",
    "    col_n[nn]=col_count[2]/t\n",
    "    print(col_count)\n",
    "    print(col_n[nn])"
   ]
  },
  {
   "cell_type": "markdown",
   "metadata": {},
   "source": [
    "> <font color=darkorange> **_Question 6 :_** </font>\n",
    "> Qu'observez-vous sur le pourcentage de coloriages optimaux pour le cycle $C_{2n}$ lorsque `n` augmente ? "
   ]
  },
  {
   "cell_type": "code",
   "execution_count": 17,
   "metadata": {
    "scrolled": true
   },
   "outputs": [
    {
     "name": "stdout",
     "output_type": "stream",
     "text": [
      "[0. 0. 0. 0. 0. 0. 0. 0. 0. 0. 0. 0. 0. 0. 0. 0. 0. 0. 0. 0. 0. 0. 0. 0.\n",
      " 0. 0. 0. 0. 0. 0. 0. 0. 0. 0. 0. 0. 0. 0. 0. 0. 0. 0. 0. 0. 0. 0. 0. 0.\n",
      " 0. 0.]\n"
     ]
    },
    {
     "data": {
      "text/plain": [
       "Text(0, 0.5, 'Pourcentage')"
      ]
     },
     "execution_count": 17,
     "metadata": {},
     "output_type": "execute_result"
    },
    {
     "data": {
      "image/png": "[encoded data removed]",
      "text/plain": [
       "<Figure size 640x480 with 1 Axes>"
      ]
     },
     "metadata": {},
     "output_type": "display_data"
    }
   ],
   "source": [
    "\"\"\"\n",
    "Tracé courbe\n",
    "\"\"\"\n",
    "print(col_n)\n",
    "plt.close()\n",
    "plt.plot(col_n, color='blue')\n",
    "plt.title('Pourcentage de coloration optimale en fonction de la taille du cycle')\n",
    "plt.xlabel('Taille')\n",
    "plt.ylabel('Pourcentage')"
   ]
  },
  {
   "cell_type": "markdown",
   "metadata": {},
   "source": [
    "> <font color=darkorange> **_Question 7 :_** </font>\n",
    "> Réaliser les mêmes tests statistiques sur des graphes différentes."
   ]
  },
  {
   "cell_type": "code",
   "execution_count": 12,
   "metadata": {},
   "outputs": [],
   "source": [
    "n=20\n",
    "G=nx.algorithms.bipartite.generators.random_graph(n,n,.2)\n",
    "\n",
    "\n",
    "A=nx.to_numpy_array(G)\n",
    "\n",
    "\n",
    "C=NaiveCol(A)\n",
    "print(C)\n",
    "\n",
    "nx.draw(G, nodelist=range(2*n),node_color=C,with_labels=True,pos=nx.circular_layout(G))"
   ]
  },
  {
   "cell_type": "code",
   "execution_count": 13,
   "metadata": {},
   "outputs": [],
   "source": [
    "\n",
    "n=25\n",
    "t=100\n",
    "col_count=np.zeros(n,int)\n",
    "\n",
    "cols=np.zeros(t,int)\n",
    "\n",
    "\n",
    "G=nx.algorithms.bipartite.generators.random_graph(n,n,.2)\n",
    "\n",
    "\n",
    "A=nx.to_numpy_array(G)\n",
    "\n",
    "for i in range(t):\n",
    "    C=NaiveCol(A)\n",
    "    c_max=max(C)+1\n",
    "    cols[i]=c_max\n",
    "\n",
    "print(col_count)\n",
    "print(f'the colouring is optimal in {cols[2]/t:.5f} percent of the cases')\n",
    "print(f'the mean number of colour is {np.mean(cols):.5f}')\n",
    "\n",
    "plt.hist(cols,bins=np.arange(1,n+1))"
   ]
  }
 ],
 "metadata": {
  "kernelspec": {
   "display_name": "Python 3 (ipykernel)",
   "language": "python",
   "name": "python3"
  },
  "language_info": {
   "codemirror_mode": {
    "name": "ipython",
    "version": 3
   },
   "file_extension": ".py",
   "mimetype": "text/x-python",
   "name": "python",
   "nbconvert_exporter": "python",
   "pygments_lexer": "ipython3",
   "version": "3.11.5"
  }
 },
 "nbformat": 4,
 "nbformat_minor": 4
}
