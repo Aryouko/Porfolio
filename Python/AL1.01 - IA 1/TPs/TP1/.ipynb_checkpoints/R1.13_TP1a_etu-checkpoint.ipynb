{
 "cells": [
  {
   "cell_type": "markdown",
   "metadata": {},
   "source": [
    "# <center> R1.13 introduction à Python <br> TP1a - boucles et récurrences : révisions sur les suites  </center>\n",
    "<center> 2024/2025 - Thibault Godin </center>\n",
    "<center> IUT de Vannes, BUT Informatique </center>\n",
    "\n",
    "***\n",
    "\n"
   ]
  },
  {
   "cell_type": "code",
   "execution_count": 11,
   "metadata": {},
   "outputs": [],
   "source": [
    "import math\n",
    "import numpy as np\n",
    "\n",
    "import matplotlib.pyplot as plt"
   ]
  },
  {
   "cell_type": "markdown",
   "metadata": {},
   "source": [
    "# 1: 1 lapin, 2 lapins, 3 lapins ...\n",
    "\n",
    "Un mathématicien (très) naïf a entendu dire que les lapins se reproduisent. Il suppose donc que si on commence avec $a$ lapins, la population devrait augmenter.\n",
    "\n",
    "Ayant des connaissances (très) limitées en biologie, il propose de modéliser le nombre de lapins avec la suite la plus simple qu'il connaisse, la **suite arithmétique**.\n",
    "\n",
    "\n",
    "Voici une implémentation récursive de cette suite $u_0=a$ ; $u_{n+1}=u_n + r$."
   ]
  },
  {
   "cell_type": "code",
   "execution_count": 23,
   "metadata": {},
   "outputs": [
    {
     "data": {
      "text/plain": [
       "21"
      ]
     },
     "execution_count": 23,
     "metadata": {},
     "output_type": "execute_result"
    }
   ],
   "source": [
    "def arithmetic_rec(r,a,n):\n",
    "    '''\n",
    "    in: common adding r, initial term , number of iteration n\n",
    "    type: q float, r float, n int\n",
    "    return: n-th term of the arithmetic progression\n",
    "    rtype:float\n",
    "    '''\n",
    "    if n==0:\n",
    "        return a\n",
    "    else :\n",
    "        return arithmetic_rec(r,a,n-1) +r\n",
    "    \n",
    "arithmetic_rec(2,11,5)\n",
    "\n",
    "\n"
   ]
  },
  {
   "cell_type": "markdown",
   "metadata": {},
   "source": [
    "\n",
    ">**question 1:** \n",
    ">écrire une fonction <tt> arithmetic </tt> qui calcule $u_n$ de manière impérative (c-à-d avec une boucle).\n",
    ">\n",
    ">Donner une formule explicite pour $u_n$\n"
   ]
  },
  {
   "cell_type": "code",
   "execution_count": 24,
   "metadata": {},
   "outputs": [
    {
     "data": {
      "text/plain": [
       "21"
      ]
     },
     "execution_count": 24,
     "metadata": {},
     "output_type": "execute_result"
    }
   ],
   "source": [
    "def arithmetic(r,a,n):\n",
    "    '''\n",
    "    in: common adding r, initial term , number of iteration n\n",
    "    type: q float, r float, n int\n",
    "    return: n-th term of the arithmetic progression\n",
    "    rtype:float\n",
    "    '''\n",
    "    u = a\n",
    "    while n > 0:\n",
    "        u += r\n",
    "        n -= 1\n",
    "     \n",
    "    return u\n",
    "\n",
    "arithmetic(2,11,5)"
   ]
  },
  {
   "cell_type": "markdown",
   "metadata": {},
   "source": [
    "\n",
    ">**question 2:** \n",
    ">écrire une fonction <tt> arithmetic_list </tt> qui calcule les $n$ premiers termes de la suite $(u_n)$ en utilisant >les une [liste en compréhension](https://docs.python.org/3.10/tutorial/datastructures.html#list-comprehensions).\n",
    "\n"
   ]
  },
  {
   "cell_type": "code",
   "execution_count": 25,
   "metadata": {},
   "outputs": [
    {
     "data": {
      "text/plain": [
       "[3, 5, 7, 9, 11, 13, 15, 17, 19, 21]"
      ]
     },
     "execution_count": 25,
     "metadata": {},
     "output_type": "execute_result"
    }
   ],
   "source": [
    "def arithmetic_list(r,a,n):\n",
    "    '''\n",
    "    in: common adding r, initial term , number of iteration n\n",
    "    type: q float, r float, n int\n",
    "    return: n-th terms of the arithmetic progression\n",
    "    rtype:float\n",
    "    '''\n",
    "\n",
    "    \n",
    "    return [(a + r*i) for i in range(n)]\n",
    "arithmetic_list(2,3,10) "
   ]
  },
  {
   "cell_type": "markdown",
   "metadata": {},
   "source": [
    "On peut maintenant tracer les $100$ premiers termes de la suite.\n",
    "\n",
    "\n",
    "\n",
    "\n"
   ]
  },
  {
   "cell_type": "code",
   "execution_count": 79,
   "metadata": {},
   "outputs": [
    {
     "name": "stdout",
     "output_type": "stream",
     "text": [
      "range(0, 100)\n"
     ]
    },
    {
     "data": {
      "image/png": "[encoded data removed]",
      "text/plain": [
       "<Figure size 640x480 with 1 Axes>"
      ]
     },
     "metadata": {},
     "output_type": "display_data"
    }
   ],
   "source": [
    "n = 100\n",
    "rg = range(0, n)\n",
    "s1 = arithmetic_list(2,3,n) \n",
    "\n",
    "plt.title('arithmetic rabbits')\n",
    "plt.plot(rg, s1, 'ro', markersize=4)\n",
    "\n",
    "\n",
    "plt.show()\n",
    "\n"
   ]
  },
  {
   "cell_type": "markdown",
   "metadata": {},
   "source": [
    ">**question 3** Décrire tous les comportements possibles pour $u_n$ selon les choix de $a$ et $r$. Quels choix sont pertinents ici en terme de modélisation ?\n",
    "\n"
   ]
  },
  {
   "cell_type": "markdown",
   "metadata": {},
   "source": [
    "| behaviour of $u_n$ | $r<0$ | $r=0$ | $r>0$ |\n",
    "| :- | -: | :-: |---|\n",
    "| $a$ = 0| décroissant à l'infini | constant à a | croissant à l'infini |\n",
    "| $a$ < 0| décroissant à l'infini | constant à a | croissant à l'infini |\n",
    "| $a$ > 0| décroissant à l'infini | constant à a | croissant à l'infini |\n",
    "\n",
    "Le choix pertinent est quand à a > 0 et r > 0 car c'est plus probable qu'il y est de la reproduction mais ça peut descendre ou rester constant, en tout cas c'est impossible a = 0 ou a < 0 car ça ne lancera pas de reproduction. Autre cas possible a = 0 et r = 0\n"
   ]
  },
  {
   "cell_type": "markdown",
   "metadata": {},
   "source": [
    ">**question 4 (à faire à la fin):** \n",
    "écrire une fonction <tt> arithmetic_sum </tt> qui vérifie la formule donnant la somme d'une suite arithmétique entre les borne $k$ et $n$ :\n",
    "\n",
    "$$\\sum_{i=k}^n u_i  = \\frac{(u_n+u_k)(n-k +1)}{2}$$"
   ]
  },
  {
   "cell_type": "code",
   "execution_count": 31,
   "metadata": {},
   "outputs": [
    {
     "data": {
      "text/plain": [
       "119.0"
      ]
     },
     "execution_count": 31,
     "metadata": {},
     "output_type": "execute_result"
    }
   ],
   "source": [
    "def arithmetic_sum(r,a,k,n):\n",
    "    '''\n",
    "    in: common adding r, initial term ,bounds k and  n\n",
    "    type: q float, r float, n int\n",
    "    return: checks if the formula is sound\n",
    "    rtype: bool\n",
    "    '''\n",
    "    return ((arithmetic(r, a, k) + arithmetic(r, a, n))*(n-k+1))/2\n",
    "\n",
    "arithmetic_sum(2,3,4,10) "
   ]
  },
  {
   "cell_type": "markdown",
   "metadata": {},
   "source": [
    "# 2: 1 couple of rabbits, 2 couples of rabbits, 4 couples of rabbits\n",
    "\n",
    "\n",
    "Une mathématicienne _bien mieux informée_ (mais qui n'a clairement pas souvent vu de vrais lapins) sait que les lapins ont des lapereaux qui peuvent eux-mêmes se reproduire. Elle propose donc une autre modélisation de la croissance de la population : la **suite géométrique** $u_0=a$ ; $u_{n+1}=qu_n$.\n",
    "\n",
    "_Cette modélisation simpliste est une théorie qui a réellement été proposée au XIXème siècle par Thomas R. Malthus, qui prédisait alors une  [explosion démographique](https://en.wikipedia.org/wiki/Malthusianism) et en tirait certaines conclusions très politiques_"
   ]
  },
  {
   "cell_type": "markdown",
   "metadata": {},
   "source": [
    ">**question 1:** Écrire une fonction <tt>geometric_rec</tt> qui calcule $u_n$ de manière recursive (c-à-d sans boucle).\n",
    "\n"
   ]
  },
  {
   "cell_type": "code",
   "execution_count": 33,
   "metadata": {},
   "outputs": [
    {
     "data": {
      "text/plain": [
       "352"
      ]
     },
     "execution_count": 33,
     "metadata": {},
     "output_type": "execute_result"
    }
   ],
   "source": [
    "def geometric_rec(q,a,n):\n",
    "    '''\n",
    "    in: common ratio q, scale factor a, number of iteration n\n",
    "    type: q float, a float, n int\n",
    "    return: n-th term of the geometric progression\n",
    "    rtype:float\n",
    "    '''\n",
    "    if n==0:\n",
    "        return a\n",
    "    else :\n",
    "        return geometric_rec(q,a,n-1) *q\n",
    "    \n",
    "    \n",
    "geometric_rec(2,11,5)"
   ]
  },
  {
   "cell_type": "markdown",
   "metadata": {},
   "source": [
    "\n",
    ">**question 2:** Écrire une fonction <tt>geometric</tt> qui calcule $u_n$ de manière impérative (c-à-d avec une boucle).\n",
    ">\n",
    ">Donner une formule explicite pour $u_n$"
   ]
  },
  {
   "cell_type": "code",
   "execution_count": 37,
   "metadata": {},
   "outputs": [
    {
     "data": {
      "text/plain": [
       "352"
      ]
     },
     "execution_count": 37,
     "metadata": {},
     "output_type": "execute_result"
    }
   ],
   "source": [
    "def geometric(q,a,n):\n",
    "    '''\n",
    "    in: common ratio q, scale factor a, number of iteration n\n",
    "    type: q float, a float, n int\n",
    "    return: n-th term of the geometric progression\n",
    "    rtype:float\n",
    "    '''\n",
    "    u = a\n",
    "    while n > 0:\n",
    "        u *= q\n",
    "        n -= 1\n",
    "     \n",
    "    return u\n",
    "\n",
    "\n",
    "geometric(2,11,5)"
   ]
  },
  {
   "cell_type": "markdown",
   "metadata": {},
   "source": [
    "On peut maintenant tracer les $100$ premiers termes de la suite.\n",
    "\n",
    "Dans ce genre de situation, comme $u_n$ augmente très rapidement, il peut-être intéressant de tracer $\\log u_n$. On parle _d'échelle logarithmique_.\n",
    "\n",
    "Quelles sont vos observations ?\n",
    "\n"
   ]
  },
  {
   "cell_type": "code",
   "execution_count": 89,
   "metadata": {},
   "outputs": [
    {
     "data": {
      "image/png": "[encoded data removed]",
      "text/plain": [
       "<Figure size 640x480 with 1 Axes>"
      ]
     },
     "metadata": {},
     "output_type": "display_data"
    },
    {
     "data": {
      "image/png": "[encoded data removed]",
      "text/plain": [
       "<Figure size 640x480 with 1 Axes>"
      ]
     },
     "metadata": {},
     "output_type": "display_data"
    }
   ],
   "source": [
    "rg = range(0, 20)\n",
    "s1 = [(2 * 3**i) for i in rg]\n",
    "plt.title('geometric rabbits usual')\n",
    "plt.plot(rg, s1, 'rx', markersize=4)\n",
    "plt.show()\n",
    "\n",
    "\n",
    "plt.title('geometric rabbits log')\n",
    "plt.yscale('log')\n",
    "plt.plot(rg, s1, 'b+', markersize=4)\n",
    "plt.show()\n",
    "\n",
    "#C'est exponentielle et on retrouve bien l'évolution de n"
   ]
  },
  {
   "cell_type": "markdown",
   "metadata": {},
   "source": [
    ">**question 3**  Décrire tous les comportements possibles pour $u_n$ selon les choix de $a$ et $r$. Quels choix sont pertinents ici en terme de modélisation ?\n"
   ]
  },
  {
   "cell_type": "markdown",
   "metadata": {},
   "source": [
    "| behaviour of $u_n$ | $q<0$ | $q=0$ | $0<q<1$ |$q=1$ |$1<q$ |\n",
    "| :- | -: | :-: |---| :-: |---|\n",
    "| $a$ = 0| constant à 0 | constant à 0 | constant à 0 | constant à 0 | constant à 0 |\n",
    "| $a$ < 0| varie entre positif négatif vers infini | constant à 0 sauf première valeur | majoré par 0 et croissant | constant à a | décroissant |\n",
    "| $a$ > 0| varie entre positif négatif vers infini | constant à 0 sauf première valeur | minoré par 0 et décroissant | constant à a | croissant |\n",
    "\n",
    "Donc plus pertinent quand tout est positif ou q <= 0"
   ]
  },
  {
   "cell_type": "markdown",
   "metadata": {},
   "source": [
    ">**question 4 (à faire à la fin):** \n",
    "écrire une fonction <tt> geometric_sum </tt> qui vérifie la formule donnant la somme d'une suite arithmétique entre les borne $k$ et $n$ :\n",
    ">\n",
    ">$$\\sum_{i=k}^n u_i  = u_k\\cdot\\frac{1-q^{n-k+1}}{1-q}$$\n",
    ">\n",
    ">Essayer la formule avec $a=1, q=.00002, k=10, n=30$. Qu'en pensez-vous ?"
   ]
  },
  {
   "cell_type": "code",
   "execution_count": 54,
   "metadata": {},
   "outputs": [
    {
     "data": {
      "text/plain": [
       "False"
      ]
     },
     "execution_count": 54,
     "metadata": {},
     "output_type": "execute_result"
    }
   ],
   "source": [
    "def geometric_sum(q,a,k,n):\n",
    "    '''\n",
    "    in: common adding r, initial term ,bounds k and  n\n",
    "    type: q float, r float, n int\n",
    "    return: checks if the formula is sound\n",
    "    rtype: bool\n",
    "    '''\n",
    "\n",
    "    return (a*q**k)*(1-q**(n-k+1))/(1-q) == sum([a*q**i for i in range(k,n+1)])\n",
    "\n",
    "geometric_sum(.00002,1,10,30) \n",
    "\n",
    "#Le résultat est trop petite pour bien comparé"
   ]
  },
  {
   "cell_type": "markdown",
   "metadata": {},
   "source": [
    "# 3: Naturalisme : retrouver les lapins\n",
    "\n",
    "\n",
    "on va terminer par écrire des fonctions permettant de déterminer les paramètres définissant une suite donnée."
   ]
  },
  {
   "cell_type": "markdown",
   "metadata": {},
   "source": [
    ">**question 1** \n",
    ">écrire une fonction prenant en entrée 2 termes $u_m,u_n$ d'une suite arithmétique, et qui retourne les paramètres de la suite.\n"
   ]
  },
  {
   "cell_type": "code",
   "execution_count": 65,
   "metadata": {},
   "outputs": [
    {
     "data": {
      "text/plain": [
       "(2, 11)"
      ]
     },
     "execution_count": 65,
     "metadata": {},
     "output_type": "execute_result"
    }
   ],
   "source": [
    "def arithmetic_param(m,n,um,un):\n",
    "    r = (um - un) // (m - n)\n",
    "    u = um - (m)*r\n",
    "    \n",
    "    return r, u\n",
    "\n",
    "arithmetic_param(5,10,arithmetic_rec(2,11,5),arithmetic_rec(2,11,10))"
   ]
  },
  {
   "cell_type": "markdown",
   "metadata": {},
   "source": [
    ">**question 2** \n",
    ">écrire une fonction prenant en entrée 2 termes $u_m,u_n$ d'une suite géométrique, et qui retourne les paramètres de la suite."
   ]
  },
  {
   "cell_type": "code",
   "execution_count": 66,
   "metadata": {},
   "outputs": [
    {
     "data": {
      "text/plain": [
       "(2.0, 11.0)"
      ]
     },
     "execution_count": 66,
     "metadata": {},
     "output_type": "execute_result"
    }
   ],
   "source": [
    "def geom_param(m,n,um,un):\n",
    "    q = (un / um) ** (1 / (n - m))\n",
    "    u = um / (q ** m)\n",
    "    \n",
    "    return q, u\n",
    "\n",
    "geom_param(5,10,geometric_rec(2,11,5),geometric_rec(2,11,10))"
   ]
  },
  {
   "cell_type": "markdown",
   "metadata": {},
   "source": [
    ">**bonus** \n",
    ">écrire une fonction prenant en entrée 3 termes $u_{\\ell},u_m,u_n$ d'une suite dont on ignore si elle est arithmétique ou géométrique, et qui retourne la nature et les paramètres de la suite.\n"
   ]
  },
  {
   "cell_type": "code",
   "execution_count": 53,
   "metadata": {},
   "outputs": [
    {
     "data": {
      "text/plain": [
       "'error'"
      ]
     },
     "execution_count": 53,
     "metadata": {},
     "output_type": "execute_result"
    }
   ],
   "source": [
    "def ari_or_geo(l,m,n,ul,um,un):\n",
    "    \n",
    "    return 'type',-1,-1\n",
    "\n"
   ]
  },
  {
   "cell_type": "code",
   "execution_count": null,
   "metadata": {},
   "outputs": [],
   "source": []
  }
 ],
 "metadata": {
  "kernelspec": {
   "display_name": "Python 3 (ipykernel)",
   "language": "python",
   "name": "python3"
  },
  "language_info": {
   "codemirror_mode": {
    "name": "ipython",
    "version": 3
   },
   "file_extension": ".py",
   "mimetype": "text/x-python",
   "name": "python",
   "nbconvert_exporter": "python",
   "pygments_lexer": "ipython3",
   "version": "3.12.3"
  }
 },
 "nbformat": 4,
 "nbformat_minor": 4
}
