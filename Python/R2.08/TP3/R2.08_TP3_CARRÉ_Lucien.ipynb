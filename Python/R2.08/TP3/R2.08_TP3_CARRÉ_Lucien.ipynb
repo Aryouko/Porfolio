{
 "cells": [
  {
   "cell_type": "markdown",
   "metadata": {},
   "source": [
    "# <center>R2.08 - Outils numériques pour les statistiques descriptives <br>TP3 - \"Just One More\" Paradox<center>\n",
    "\n",
    "\n",
    "_Tom Ferragut, Thibault Godin_\n",
    "\n",
    "_IUT de Vannes, BUT Informatique_"
   ]
  },
  {
   "cell_type": "markdown",
   "metadata": {},
   "source": [
    "### Imports"
   ]
  },
  {
   "cell_type": "code",
   "execution_count": 5,
   "metadata": {},
   "outputs": [],
   "source": [
    "# importation des packages\n",
    "import numpy as np\n",
    "import pandas as pd \n",
    "import matplotlib.pyplot as plt"
   ]
  },
  {
   "cell_type": "markdown",
   "metadata": {},
   "source": [
    "## Présentation du \"Just One More\" Paradox\n",
    "\n",
    "Jouons à un jeu :\n",
    "- Vous commencez avec 100€, et jouez à Pile ou Face plusieurs fois d'affilés. \n",
    "- À chaque fois que vous obtenez un Pile, vous gagnez $80\\%$ de votre cagnotte.\n",
    "- À chaque fois que vous obtenez Face vous perdez $50\\%$ de votre cagnotte.\n",
    "\n",
    "Une pièce (équilibré) ayant autant de chance d'obtenir Pile ou Face, votre gain moyen est :\n",
    "$$\\text{Gain Moyen}=\\left(\\frac{1}{2}\\times 0,8 - \\frac{1}{2} \\times 0.5 \\right) \\text{Cagnotte}=0.15 \\times \\text{Cagnotte} > 0 !!!$$ \n",
    "\n",
    "En moyenne on a donc l'impression que l'on gagne de l'argent ! Joueriez-vous à ce jeu ?\n",
    "\n",
    "--------------------\n",
    "\n",
    "Nous allons voir dans ce TP qu'à priori, ce jeu n'est en fait pas avantageux pour le joueur, c'est pour cela que l'on parle de **paradoxe**. \n",
    "\n",
    "Ce TP est inspiré de la vidéo Youtube suivante.\n",
    "- https://youtu.be/_FuuYSM7yOo?si=HBCPLJnIFsoM4prG \n",
    "\n",
    "--------------------\n",
    "\n",
    "L'objectif de ce TP est de générer des lancers de pièces pour simuler une population d'individus jouant à ce jeu, dans le but d'étudier le gain moyen et médian en pratique.\n",
    "\n"
   ]
  },
  {
   "cell_type": "markdown",
   "metadata": {},
   "source": [
    "\n",
    "### 2.a - Génération pseudo-aléatoire des données"
   ]
  },
  {
   "cell_type": "markdown",
   "metadata": {},
   "source": [
    "Pour générer des nombre pseudo-aléatoire nous allons utiliser numpy, plus précisément la méthode `np.random.randint` quand il s'agit d'entiers.\n",
    "\n",
    "Commençons par générer des lancés de dés, et regroupons ces informations dans un tableau."
   ]
  },
  {
   "cell_type": "markdown",
   "metadata": {},
   "source": [
    ">__Question 3 :__ Générer une liste `lances_des` contenant **1000**  entiers aléatoires entre $1$ et $6$. Puis grâce à la commande `pd.DataFrame`, créer un tableau `Lances` contenant ces lancés."
   ]
  },
  {
   "cell_type": "code",
   "execution_count": 116,
   "metadata": {},
   "outputs": [
    {
     "name": "stdout",
     "output_type": "stream",
     "text": [
      "       Lances_de_des\n",
      "0                  5\n",
      "1                  4\n",
      "2                  1\n",
      "3                  6\n",
      "4                  4\n",
      "...              ...\n",
      "99995              1\n",
      "99996              5\n",
      "99997              4\n",
      "99998              2\n",
      "99999              2\n",
      "\n",
      "[100000 rows x 1 columns]\n"
     ]
    }
   ],
   "source": [
    "# Création d'un DataFrame avec une colonne contenant les résultats d'un lancé de dés\n",
    "\n",
    "####TODO####\n",
    "def lance_des(n):\n",
    "    return np.random.randint(1,7,n)\n",
    "\n",
    "lances_des = lance_des(100000)\n",
    "\n",
    "Lances = pd.DataFrame({'Lances_de_des' : lances_des})\n",
    "\n",
    "print(Lances)"
   ]
  },
  {
   "cell_type": "markdown",
   "metadata": {},
   "source": [
    ">__Question 4 :__  Ajouter deux colonnes supplémentaires au Dataframe `Lances`:\n",
    ">- `Somme_de_deux_des` contenant la somme de deux lancés de dés.\n",
    ">- `Somme_de_trois_des` contenant la somme de trois lancés de dés."
   ]
  },
  {
   "cell_type": "code",
   "execution_count": 117,
   "metadata": {},
   "outputs": [
    {
     "name": "stdout",
     "output_type": "stream",
     "text": [
      "   Lances_de_des  Somme_de_deux_des  Somme_de_trois_des\n",
      "0              5                  3                   9\n",
      "1              4                  6                   8\n",
      "2              1                  4                   8\n",
      "3              6                  7                   6\n",
      "4              4                  3                   9\n"
     ]
    }
   ],
   "source": [
    "# Ajout de colonnes pour la somme de deux lancés et la somme de trois lancés\n",
    "\n",
    "####TODO####\n",
    "Lances['Somme_de_deux_des'] = lance_des(100000) + lance_des(100000)\n",
    "Lances['Somme_de_trois_des'] = lance_des(100000) + lance_des(100000) + lance_des(100000)\n",
    "\n",
    "# Affichage du DataFrame\n",
    "print(Lances.head())"
   ]
  },
  {
   "cell_type": "markdown",
   "metadata": {},
   "source": [
    ">__Question 5 :__ En vous inspirant du TP1, tracer des diagrammes en barre représentant la distribution des valeurs prisent par 1000 lancés de 1 dés, sommes de 2 dés et sommes de 3 dés."
   ]
  },
  {
   "cell_type": "code",
   "execution_count": 118,
   "metadata": {},
   "outputs": [
    {
     "data": {
      "image/png": "[encoded data removed]",
      "text/plain": [
       "<Figure size 640x480 with 1 Axes>"
      ]
     },
     "metadata": {},
     "output_type": "display_data"
    }
   ],
   "source": [
    "# Commande principale qui créer le diagramme. La fonction `sort_index` est là pour ordonner par ordre alphabétique le \"Genre\"\n",
    "\n",
    "####TODO####\n",
    "Lances.Lances_de_des.value_counts().sort_index().plot(kind=\"bar\", color='darkorange')\n",
    "\n",
    "# Ajoute des étiquettes et un titre au graphique, cette partie est optionnelle\n",
    "plt.xlabel('Lancés')\n",
    "plt.ylabel('Effectifs')\n",
    "plt.title('D6')\n",
    "\n",
    "# Affichez le graphique\n",
    "plt.show()"
   ]
  },
  {
   "cell_type": "code",
   "execution_count": 119,
   "metadata": {},
   "outputs": [
    {
     "data": {
      "image/png": "[encoded data removed]",
      "text/plain": [
       "<Figure size 640x480 with 1 Axes>"
      ]
     },
     "metadata": {},
     "output_type": "display_data"
    }
   ],
   "source": [
    "# Commande principale qui créer le diagramme. La fonction `sort_index` est là pour ordonner par ordre alphabétique le \"Genre\"\n",
    "\n",
    "####TODO####\n",
    "Lances.Somme_de_deux_des.value_counts().sort_index().plot(kind=\"bar\", color='darkorange')\n",
    "\n",
    "# Ajoute des étiquettes et un titre au graphique, cette partie est optionnelle\n",
    "plt.xlabel('Somme de deux lancés')\n",
    "plt.ylabel('Effectifs')\n",
    "plt.title('D6 + D6')\n",
    "\n",
    "# Affichez le graphique\n",
    "plt.show()"
   ]
  },
  {
   "cell_type": "code",
   "execution_count": 120,
   "metadata": {},
   "outputs": [
    {
     "data": {
      "image/png": "[encoded data removed]",
      "text/plain": [
       "<Figure size 640x480 with 1 Axes>"
      ]
     },
     "metadata": {},
     "output_type": "display_data"
    }
   ],
   "source": [
    "\n",
    "####TODO####\n",
    "Lances.Somme_de_trois_des.value_counts().sort_index().plot(kind=\"bar\", color='darkorange')\n",
    "\n",
    "# Ajoute des étiquettes et un titre au graphique.\n",
    "plt.xlabel('Somme de trois lancés')\n",
    "plt.ylabel('Effectifs')\n",
    "plt.title('D6 + D6 + D6')\n",
    "\n",
    "# Affichage du graphique\n",
    "plt.show()"
   ]
  },
  {
   "cell_type": "markdown",
   "metadata": {},
   "source": [
    "La distribution des valeurs se rapproche de plus en plus d'une Gaussienne ! Cette distribution très particulière est celle qui apparaît \"le plus\" dans des événements aléatoire."
   ]
  },
  {
   "cell_type": "markdown",
   "metadata": {},
   "source": [
    "### 2.b - Simulation et étude du paradoxe"
   ]
  },
  {
   "cell_type": "markdown",
   "metadata": {},
   "source": [
    "Nous pouvons à présent simuler des joueurs. Nous modéliserons les lancer de pièces par un nombre aléatoire : $1$ pour Pile et $0$ pour Face."
   ]
  },
  {
   "cell_type": "markdown",
   "metadata": {},
   "source": [
    ">__Question 6 :__ Ecrire une fonction `lance_pile_face` prenant en entré le nombre de lancé à réaliser et le nombre d'individu ayant joué, puis qui donne en sorti un tableau contenant pour chaque personne le nombre de fois qu'ils ont obtenu Pile."
   ]
  },
  {
   "cell_type": "code",
   "execution_count": 244,
   "metadata": {},
   "outputs": [
    {
     "name": "stdout",
     "output_type": "stream",
     "text": [
      "   Nb_Pile\n",
      "0       29\n",
      "1       29\n",
      "2       23\n",
      "3       30\n",
      "4       26\n",
      "5       21\n",
      "6       25\n",
      "7       28\n",
      "8       24\n",
      "9       28\n"
     ]
    }
   ],
   "source": [
    "import numpy as np\n",
    "\n",
    "def lance_pile_face(nombre_lances, nombre_individus):\n",
    "    # Utilisation de numpy pour générer une matrice de lancers aléatoires (0 pour Face, 1 pour Pile)\n",
    "    \n",
    "    ####TODO####\n",
    "\n",
    "    # Calcul du nombre de Pile pour chaque individu\n",
    "    \n",
    "    ####TODO####\n",
    "    ret = []\n",
    "    for i in range(nombre_individus):\n",
    "        somme = 0\n",
    "        matrice = np.random.randint(0,2,nombre_lances)\n",
    "        for x in range(nombre_lances):\n",
    "            somme += matrice[x]\n",
    "        ret.append(somme)\n",
    "    return pd.DataFrame({\"Nb_Pile\" : ret})\n",
    "\n",
    "# Exemple d'utilisation avec 50 lancers de Pile ou Face par personne pour 10 individus\n",
    "resultats = lance_pile_face(50, 10)\n",
    "\n",
    "print(resultats)"
   ]
  },
  {
   "cell_type": "markdown",
   "metadata": {},
   "source": [
    "Si l'on réalise $l$ lancés de pièces et que l'on obtient $p$ Piles, notre argent devient alors : $cagnotte=100\\cdot 1.8^{p} \\cdot 0.5^{l-p}$\n",
    "\n",
    "En utilisant cette formule nous pouvons inclure la cagnotte de chaque individu dans notre tableau."
   ]
  },
  {
   "cell_type": "markdown",
   "metadata": {},
   "source": [
    ">__Question 7 :__ Ajouter au Dataframe (construit par `lance_pile_face`) une colonne `cagnotte` contenant l'argent en possession d'un joueur après avoir joué. Puis, calculer la moyenne et la médiane des gains des individus."
   ]
  },
  {
   "cell_type": "code",
   "execution_count": 253,
   "metadata": {},
   "outputs": [
    {
     "name": "stdout",
     "output_type": "stream",
     "text": [
      "   Nb_Pile     cagnotte\n",
      "0       12   451.887258\n",
      "1       14  5856.458868\n",
      "2        7     0.747339\n",
      "3       10    34.867844\n",
      "4        9     9.685512\n",
      "5       11   125.524238\n",
      "6       12   451.887258\n",
      "7        9     9.685512\n",
      "8        5     0.057665\n",
      "9        9     9.685512\n",
      "Moyenne de la nouvelle colonne : 695.048700827553\n",
      "Médiane de la nouvelle colonne : 22.27667811750001\n"
     ]
    }
   ],
   "source": [
    "\n",
    "####TODO####\n",
    "Nb_lances = 20\n",
    "Nb_joueurs = 10\n",
    "Piece = lance_pile_face(Nb_lances, Nb_joueurs)\n",
    "cagnotte = []\n",
    "for i in range(len(Piece['Nb_Pile'])):\n",
    "     cagnotte.append(100 * (1.8 ** Piece['Nb_Pile'][i]) * (0.5 ** (Nb_lances-Piece['Nb_Pile'][i])))\n",
    "\n",
    "Piece['cagnotte'] = cagnotte\n",
    "        \n",
    "# Calcul de la moyenne et de la médiane de la nouvelle colonne\n",
    "moyenne_colonne = np.mean(cagnotte)#TODO#\n",
    "median_colonne = np.median(cagnotte)#TODO#\n",
    "\n",
    "print(Piece)\n",
    "print(\"Moyenne de la nouvelle colonne :\", moyenne_colonne)\n",
    "print(\"Médiane de la nouvelle colonne :\", median_colonne)"
   ]
  },
  {
   "cell_type": "markdown",
   "metadata": {},
   "source": [
    ">__Question 8 :__ La stratégie intitiale à l'air perdante pour le jouer. Essayons une autre stratégie : on mise toujours la même somme de 100€ (et non plus la totalité de notre cagnotte). Calculer le nouveau gain moyen et médian puis commenter."
   ]
  },
  {
   "cell_type": "code",
   "execution_count": 282,
   "metadata": {},
   "outputs": [
    {
     "name": "stdout",
     "output_type": "stream",
     "text": [
      "   Nb_Pile  cagnotte\n",
      "0        9       270\n",
      "1       13       790\n",
      "2        9       270\n",
      "3       11       530\n",
      "4        9       270\n",
      "5       11       530\n",
      "6        8       140\n",
      "7       10       400\n",
      "8       10       400\n",
      "9       14       920\n",
      "Moyenne de la nouvelle colonne : 452.0\n",
      "Médiane de la nouvelle colonne : 400.0\n"
     ]
    }
   ],
   "source": [
    "\n",
    "####TODO####\n",
    "Nb_lances = 20\n",
    "Nb_joueurs = 10\n",
    "Piece = lance_pile_face(Nb_lances, Nb_joueurs)\n",
    "cagnotte = []\n",
    "for i in range(len(Piece['Nb_Pile'])):\n",
    "     cagnotte.append(100 + (80 * Piece['Nb_Pile'][i]) - (50 * (Nb_lances-Piece['Nb_Pile'][i])))\n",
    "\n",
    "Piece['cagnotte'] = cagnotte\n",
    "\n",
    "# Calcul de la moyenne et de la médiane de la nouvelle colonne\n",
    "moyenne_colonne = np.mean(cagnotte)#TODO#\n",
    "median_colonne = np.median(cagnotte)#TODO#\n",
    "\n",
    "print(Piece)\n",
    "print(\"Moyenne de la nouvelle colonne :\", moyenne_colonne)\n",
    "print(\"Médiane de la nouvelle colonne :\", median_colonne)"
   ]
  },
  {
   "cell_type": "markdown",
   "metadata": {},
   "source": [
    ">__Question 9 : (Bonus)__ Ecrire une fonction qui prend comme paramètres : \n",
    ">- Le type de stratégie\n",
    ">- Les paramètres de gains et de pertes\n",
    ">- Le nombre d'individus\n",
    ">- Le nombre de lancés\n",
    ">\n",
    ">Et qui trace sur un même graphique :\n",
    ">- L'évolution de la cagnotte de chaque individus \n",
    ">- Lévolution de la moyenne et de la médiane.\n",
    ">\n",
    ">Commenter."
   ]
  },
  {
   "cell_type": "code",
   "execution_count": 10,
   "metadata": {},
   "outputs": [
    {
     "ename": "SyntaxError",
     "evalue": "incomplete input (280527173.py, line 3)",
     "output_type": "error",
     "traceback": [
      "\u001b[1;36m  Cell \u001b[1;32mIn[10], line 3\u001b[1;36m\u001b[0m\n\u001b[1;33m    ####TODO####\u001b[0m\n\u001b[1;37m                ^\u001b[0m\n\u001b[1;31mSyntaxError\u001b[0m\u001b[1;31m:\u001b[0m incomplete input\n"
     ]
    }
   ],
   "source": [
    "def simulation_cagnotte(strategie, gains, pertes, nombre_individus, nombre_lances):\n",
    "    \n",
    "    ####TODO####\n"
   ]
  },
  {
   "cell_type": "code",
   "execution_count": null,
   "metadata": {},
   "outputs": [],
   "source": []
  }
 ],
 "metadata": {
  "kernelspec": {
   "display_name": "Python 3 (ipykernel)",
   "language": "python",
   "name": "python3"
  },
  "language_info": {
   "codemirror_mode": {
    "name": "ipython",
    "version": 3
   },
   "file_extension": ".py",
   "mimetype": "text/x-python",
   "name": "python",
   "nbconvert_exporter": "python",
   "pygments_lexer": "ipython3",
   "version": "3.12.3"
  }
 },
 "nbformat": 4,
 "nbformat_minor": 2
}
